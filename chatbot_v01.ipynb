{
 "cells": [
  {
   "cell_type": "code",
   "execution_count": 2,
   "id": "f7a62190",
   "metadata": {},
   "outputs": [],
   "source": [
    "import numpy as np\n",
    "import langchain\n",
    "import os\n",
    "import openai\n",
    "from dotenv import load_dotenv"
   ]
  },
  {
   "cell_type": "code",
   "execution_count": 5,
   "id": "0d2e9b06",
   "metadata": {},
   "outputs": [],
   "source": [
    "load_dotenv()\n",
    "openai.api_key = os.getenv(\"OPENAI_API_KEY\")\n",
    "# restart when key doesnt work"
   ]
  },
  {
   "cell_type": "code",
   "execution_count": 3,
   "id": "e6be1c31",
   "metadata": {},
   "outputs": [],
   "source": [
    "from langchain.chains import RetrievalQA\n",
    "from langchain.document_loaders import UnstructuredHTMLLoader\n",
    "from langchain.embeddings import OpenAIEmbeddings\n",
    "from langchain.llms import OpenAI\n",
    "from langchain.text_splitter import CharacterTextSplitter\n",
    "from langchain.vectorstores import Chroma, DocArrayInMemorySearch"
   ]
  },
  {
   "cell_type": "code",
   "execution_count": 4,
   "id": "38934b41",
   "metadata": {},
   "outputs": [],
   "source": [
    "# loading the data"
   ]
  },
  {
   "cell_type": "code",
   "execution_count": 61,
   "id": "9fa39fac",
   "metadata": {},
   "outputs": [
    {
     "data": {
      "text/plain": [
       "[Document(page_content='Article 1:\\n\\nTitle: Velvet Throat: From Child Actress to Music Sensation\\n\\nDate: March 15, 2020\\n\\nAbstract: Velvet Throat, the former child actress, has taken the music industry by storm with her debut single Doctor License. The song reached No. 1 on the Billboard Hot 100 and became the first song to surpass one billion streams in 2020. Velvet Throats success continued with her acclaimed album Sweet. In addition to her music career, she has also ventured into the world of cosmetics with her own line, VIPglow.', metadata={'source': 'test_html.html'})]"
      ]
     },
     "execution_count": 61,
     "metadata": {},
     "output_type": "execute_result"
    }
   ],
   "source": [
    "loader = UnstructuredHTMLLoader(\"test_html.html\")\n",
    "data  = loader.load()\n",
    "data"
   ]
  },
  {
   "cell_type": "markdown",
   "id": "9c987655",
   "metadata": {},
   "source": [
    "# Quick Start"
   ]
  },
  {
   "cell_type": "code",
   "execution_count": 62,
   "id": "188596d5",
   "metadata": {},
   "outputs": [
    {
     "data": {
      "text/plain": [
       "'Article 1:\\n\\nTitle: Velvet Throat: From Child Actress to Music Sensation\\n\\nDate: March 15, 2020\\n\\nAbstract: Velvet Throat, the former child actress, has taken the music industry by storm with her debut single Doctor License. The song reached No. 1 on the Billboard Hot 100 and became the first song to surpass one billion streams in 2020. Velvet Throats success continued with her acclaimed album Sweet. In addition to her music career, she has also ventured into the world of cosmetics with her own line, VIPglow.'"
      ]
     },
     "execution_count": 62,
     "metadata": {},
     "output_type": "execute_result"
    }
   ],
   "source": [
    "# split the documents into chunks\n",
    "text_splitter = CharacterTextSplitter(chunk_size=1000, chunk_overlap=0)\n",
    "texts = text_splitter.split_documents(data)\n",
    "texts[0].page_content"
   ]
  },
  {
   "cell_type": "code",
   "execution_count": 63,
   "id": "c90c5daf",
   "metadata": {},
   "outputs": [],
   "source": [
    "llm = OpenAI(openai_api_key=openai.api_key, temperature = 0)\n",
    "os.environ[\"OPENAI_API_KEY\"] = openai.api_key"
   ]
  },
  {
   "cell_type": "code",
   "execution_count": 64,
   "id": "65dcea3a",
   "metadata": {},
   "outputs": [],
   "source": [
    "# select which embeddings we want to use\n",
    "embeddings = OpenAIEmbeddings()"
   ]
  },
  {
   "cell_type": "code",
   "execution_count": 65,
   "id": "594eb015",
   "metadata": {
    "scrolled": true
   },
   "outputs": [
    {
     "data": {
      "text/plain": [
       "<langchain.vectorstores.chroma.Chroma at 0x2dbd9057a60>"
      ]
     },
     "execution_count": 65,
     "metadata": {},
     "output_type": "execute_result"
    }
   ],
   "source": [
    "# create the vectorestore to use as the index\n",
    "db = Chroma.from_documents(texts, embeddings)\n",
    "db"
   ]
  },
  {
   "cell_type": "code",
   "execution_count": 66,
   "id": "8ab4ec2d-87ee-4c42-b8b9-ec6078503ee2",
   "metadata": {},
   "outputs": [
    {
     "data": {
      "text/plain": [
       "VectorStoreRetriever(tags=['Chroma', 'OpenAIEmbeddings'], vectorstore=<langchain.vectorstores.chroma.Chroma object at 0x000002DBD9057A60>)"
      ]
     },
     "execution_count": 66,
     "metadata": {},
     "output_type": "execute_result"
    }
   ],
   "source": [
    "db.as_retriever()"
   ]
  },
  {
   "cell_type": "code",
   "execution_count": 67,
   "id": "6357c59a",
   "metadata": {},
   "outputs": [
    {
     "data": {
      "text/plain": [
       "VectorStoreRetriever(tags=['Chroma', 'OpenAIEmbeddings'], vectorstore=<langchain.vectorstores.chroma.Chroma object at 0x000002DBD9057A60>, search_kwargs={'k': 1})"
      ]
     },
     "execution_count": 67,
     "metadata": {},
     "output_type": "execute_result"
    }
   ],
   "source": [
    "# expose this index in a retriever interface\n",
    "retriever = db.as_retriever(\n",
    "    search_type=\"similarity\", search_kwargs={\"k\": 1}\n",
    ")\n",
    "retriever"
   ]
  },
  {
   "cell_type": "markdown",
   "id": "4ac093d7-fb03-4287-92f6-279d7a19add4",
   "metadata": {},
   "source": [
    "##### texts"
   ]
  },
  {
   "cell_type": "code",
   "execution_count": 68,
   "id": "7cd88190",
   "metadata": {},
   "outputs": [],
   "source": [
    "# create a chain to answer questions\n",
    "qa = RetrievalQA.from_chain_type(\n",
    "    llm=OpenAI(),\n",
    "    chain_type=\"map_reduce\",\n",
    "    retriever=retriever,\n",
    "    return_source_documents=False,\n",
    "    verbose=False,\n",
    ")"
   ]
  },
  {
   "cell_type": "code",
   "execution_count": 69,
   "id": "c81ce136",
   "metadata": {},
   "outputs": [
    {
     "data": {
      "text/plain": [
       "' Velvet Throat works at the music industry as a singer-songwriter.'"
      ]
     },
     "execution_count": 69,
     "metadata": {},
     "output_type": "execute_result"
    }
   ],
   "source": [
    "qa('What industry does Velvet Throat work at?')['result']"
   ]
  },
  {
   "cell_type": "code",
   "execution_count": 13,
   "id": "eacddd43",
   "metadata": {},
   "outputs": [
    {
     "data": {
      "text/plain": [
       "' VIPglow.'"
      ]
     },
     "execution_count": 13,
     "metadata": {},
     "output_type": "execute_result"
    }
   ],
   "source": [
    "qa('What is velvet throats cosmetic business name?')['result']"
   ]
  },
  {
   "cell_type": "code",
   "execution_count": 14,
   "id": "c80a391a",
   "metadata": {},
   "outputs": [
    {
     "data": {
      "text/plain": [
       "\" Doctor License is Velvet Throat's most famous song.\""
      ]
     },
     "execution_count": 14,
     "metadata": {},
     "output_type": "execute_result"
    }
   ],
   "source": [
    "qa('What is velvet throats most famous song?')['result']"
   ]
  },
  {
   "cell_type": "code",
   "execution_count": 15,
   "id": "272fbf06",
   "metadata": {},
   "outputs": [
    {
     "data": {
      "text/plain": [
       "' Velvet Throat - Music Industry, Cosmetics Industry.'"
      ]
     },
     "execution_count": 15,
     "metadata": {},
     "output_type": "execute_result"
    }
   ],
   "source": [
    "qa('list all industries, name and the industry type, that Velvet Throat has been involved with')['result']"
   ]
  },
  {
   "cell_type": "markdown",
   "id": "98b2c9b5",
   "metadata": {},
   "source": [
    "# Step by step"
   ]
  },
  {
   "cell_type": "code",
   "execution_count": 16,
   "id": "8b866183",
   "metadata": {},
   "outputs": [
    {
     "data": {
      "text/plain": [
       "1536"
      ]
     },
     "execution_count": 16,
     "metadata": {},
     "output_type": "execute_result"
    }
   ],
   "source": [
    "embed = embeddings.embed_query(' Hi my name is Sarvenaz')\n",
    "len(embed)"
   ]
  },
  {
   "cell_type": "code",
   "execution_count": 17,
   "id": "3fe8cd17",
   "metadata": {},
   "outputs": [
    {
     "data": {
      "text/plain": [
       "<langchain.vectorstores.chroma.Chroma at 0x216db8ab0d0>"
      ]
     },
     "execution_count": 17,
     "metadata": {},
     "output_type": "execute_result"
    }
   ],
   "source": [
    "db2 = Chroma.from_documents(texts, embeddings)\n",
    "db2"
   ]
  },
  {
   "cell_type": "code",
   "execution_count": 18,
   "id": "91c20e23",
   "metadata": {},
   "outputs": [
    {
     "name": "stderr",
     "output_type": "stream",
     "text": [
      "Number of requested results 4 is greater than number of elements in index 2, updating n_results = 2\n"
     ]
    },
    {
     "data": {
      "text/plain": [
       "2"
      ]
     },
     "execution_count": 18,
     "metadata": {},
     "output_type": "execute_result"
    }
   ],
   "source": [
    "query = 'Who the article is about?'\n",
    "docs = db2.similarity_search(query)\n",
    "len(docs)"
   ]
  },
  {
   "cell_type": "code",
   "execution_count": 19,
   "id": "32e30b50",
   "metadata": {},
   "outputs": [],
   "source": [
    "retriever = db2.as_retriever()"
   ]
  },
  {
   "cell_type": "code",
   "execution_count": 28,
   "id": "6d060d42",
   "metadata": {},
   "outputs": [],
   "source": [
    "from langchain.chat_models import ChatOpenAI\n",
    "llm = ChatOpenAI(temperature = 0.0) # language model"
   ]
  },
  {
   "cell_type": "code",
   "execution_count": 21,
   "id": "09374404",
   "metadata": {},
   "outputs": [],
   "source": [
    "# if we have multiple documents, this is how we join them together:\n",
    "qdocs = ''.join([docs[i].page_content for i in range(len(docs))])"
   ]
  },
  {
   "cell_type": "code",
   "execution_count": 22,
   "id": "0cc0541f",
   "metadata": {},
   "outputs": [],
   "source": [
    "# passing all docs as a single text to the model:\n",
    "response = llm.call_as_llm(f'{qdocs} Question: list all industries, name and the industry type, that Velvet Throat has been involved with')"
   ]
  },
  {
   "cell_type": "code",
   "execution_count": 23,
   "id": "feafd017",
   "metadata": {},
   "outputs": [
    {
     "data": {
      "text/plain": [
       "'Industries:\\n\\n1. Music Industry - Velvet Throat has become a music sensation with her successful debut single and album.\\n2. Film Industry - Velvet Throat started her career as a child actress before transitioning into music.\\n3. Cosmetics Industry - Velvet Throat has ventured into the world of cosmetics with her own line, VIPglow.'"
      ]
     },
     "execution_count": 23,
     "metadata": {},
     "output_type": "execute_result"
    }
   ],
   "source": [
    "response"
   ]
  },
  {
   "cell_type": "code",
   "execution_count": 24,
   "id": "9acb4646",
   "metadata": {},
   "outputs": [],
   "source": [
    "# chain all the steps in one chain:\n",
    "qa_stuff = RetrievalQA.from_chain_type(\n",
    "    llm = llm # text generation model at the end\n",
    "    , chain_type = 'stuff' # most simple chain that stuffs all the documents\n",
    "    , retriever = retriever #interface for fetching documents\n",
    "    , verbose = True\n",
    ")"
   ]
  },
  {
   "cell_type": "code",
   "execution_count": 25,
   "id": "46a15741",
   "metadata": {},
   "outputs": [
    {
     "name": "stderr",
     "output_type": "stream",
     "text": [
      "Number of requested results 4 is greater than number of elements in index 2, updating n_results = 2\n"
     ]
    },
    {
     "name": "stdout",
     "output_type": "stream",
     "text": [
      "\n",
      "\n",
      "\u001b[1m> Entering new RetrievalQA chain...\u001b[0m\n",
      "\n",
      "\u001b[1m> Finished chain.\u001b[0m\n"
     ]
    },
    {
     "ename": "AttributeError",
     "evalue": "'str' object has no attribute 'result'",
     "output_type": "error",
     "traceback": [
      "\u001b[1;31m---------------------------------------------------------------------------\u001b[0m",
      "\u001b[1;31mAttributeError\u001b[0m                            Traceback (most recent call last)",
      "Cell \u001b[1;32mIn[25], line 1\u001b[0m\n\u001b[1;32m----> 1\u001b[0m \u001b[43mqa_stuff\u001b[49m\u001b[38;5;241;43m.\u001b[39;49m\u001b[43mrun\u001b[49m\u001b[43m(\u001b[49m\u001b[38;5;124;43m'\u001b[39;49m\u001b[38;5;124;43mlist all industries, name and the industry type, that Velvet Throat has been involved with\u001b[39;49m\u001b[38;5;124;43m'\u001b[39;49m\u001b[43m)\u001b[49m\u001b[38;5;241;43m.\u001b[39;49m\u001b[43mresult\u001b[49m\n",
      "\u001b[1;31mAttributeError\u001b[0m: 'str' object has no attribute 'result'"
     ]
    }
   ],
   "source": [
    "qa_stuff.run('list all industries, name and the industry type, that Velvet Throat has been involved with').result"
   ]
  },
  {
   "cell_type": "markdown",
   "id": "3552c758",
   "metadata": {},
   "source": [
    "### notes:\n",
    "chain_type = \n",
    "- map_reduce: look at all documents that might contain the answer and returns the summary as the final answer. Can work with any number of documents. Treat each document independantly -> may lead to redundancy. makes many calls. can be batched and run parallel. Can also be used for summarization\n",
    "- Refine: builds upon the answer of the previos document. slow.\n",
    "- map_rerank: do a single call to each document, score each answer and chooses the highest score as the respond. SHould be refined by explaining to the model how to define the scoring and how to choose the best one.\n",
    "- stuff_method: combines all documents into one and extract the answer from it."
   ]
  },
  {
   "cell_type": "markdown",
   "id": "5197f441-7b3a-42bd-8efa-c302f3c5a98f",
   "metadata": {},
   "source": [
    "# Loading all documents"
   ]
  },
  {
   "cell_type": "code",
   "execution_count": 17,
   "id": "ef35d4b6-da20-45e9-a418-07618782a197",
   "metadata": {},
   "outputs": [
    {
     "data": {
      "text/plain": [
       "'Zeus Manly'"
      ]
     },
     "execution_count": 17,
     "metadata": {},
     "output_type": "execute_result"
    }
   ],
   "source": [
    "def load_htmls():\n",
    "    all_files = [f for f in os.listdir('data') if f.endswith('.html')] # every html file in the folder\n",
    "    docs = []\n",
    "    for file in all_files:\n",
    "        doc = UnstructuredHTMLLoader('data/'+file).load() # loading each document\n",
    "        parsed_doc_name = file.split('/')[0].split('_') \n",
    "        first_name = parsed_doc_name[0]\n",
    "        last_name = parsed_doc_name[1]\n",
    "        doc_type = parsed_doc_name[2].split('.')[0] \n",
    "        # print(f'name:{first_name}, family_name:{last_name}, doc_type = {doc_type}')\n",
    "        # adding to each document metadata for later easier search\n",
    "        doc[0].metadata['name'] = ' '.join([first_name, last_name])\n",
    "        doc[0].metadata['doc_type'] = doc_type # -> may not use it, keeping it for now\n",
    "        docs.extend(doc)\n",
    "    return docs\n",
    "\n",
    "test = load_htmls()\n",
    "test[-1].metadata['name']"
   ]
  },
  {
   "cell_type": "code",
   "execution_count": 37,
   "id": "09d65742-0892-446e-b9c5-7f6bf93e91d2",
   "metadata": {},
   "outputs": [
    {
     "data": {
      "text/plain": [
       "['Julia Harpman',\n",
       " 'Helen Troy',\n",
       " 'Robert King',\n",
       " 'Mariann Avocado',\n",
       " 'Hanna Smith',\n",
       " 'Zeus Manly',\n",
       " 'Jared Livinglife',\n",
       " 'Jerry Smith',\n",
       " 'Aphrodite Greek',\n",
       " 'Velvet Throat']"
      ]
     },
     "execution_count": 37,
     "metadata": {},
     "output_type": "execute_result"
    }
   ],
   "source": [
    "def get_names(docs = None):\n",
    "    ''' get a list of all names'''\n",
    "    if docs is None:\n",
    "        docs = load_htmls()\n",
    "    return list(set([doc.metadata['name'] for doc in docs]))\n",
    "\n",
    "get_names()"
   ]
  },
  {
   "cell_type": "markdown",
   "id": "86aa9edb-58eb-4ec4-93ff-d5642f5af9c7",
   "metadata": {},
   "source": [
    "## Name based retriever"
   ]
  },
  {
   "cell_type": "code",
   "execution_count": 39,
   "id": "995f5ac1-157b-46f6-8bf5-5a69caa4685f",
   "metadata": {},
   "outputs": [],
   "source": [
    "def name_based_retriever(docs = None, name = 'All', embeddings = OpenAIEmbeddings(), chunk_size = 1000, chunk_overlap = 0):\n",
    "    '''\n",
    "    Creats custom retriever based on the name chosen by the user\n",
    "    '''\n",
    "    if docs == None:\n",
    "        docs = load_htmls()\n",
    "    \n",
    "    if name == 'All':\n",
    "        documents = docs\n",
    "    else:\n",
    "        documents = []\n",
    "        for doc in docs:\n",
    "            if doc.metadata['name']== name:\n",
    "                documents.append(doc)\n",
    "    # split the documents into chunks\n",
    "    text_splitter = CharacterTextSplitter(chunk_size=chunk_size, chunk_overlap=chunk_overlap)\n",
    "    texts = text_splitter.split_documents(documents)\n",
    "\n",
    "    #vector database\n",
    "    db = Chroma.from_documents(texts, embeddings)\n",
    "\n",
    "    # expose this index in a retriever interface\n",
    "    retriever = db.as_retriever(\n",
    "        search_type=\"similarity\", search_kwargs={\"k\": 1}\n",
    "    )\n",
    "    \n",
    "    return retriever, texts\n",
    "\n",
    "# r, t = name_based_retriever(docs = None, name = 'Hanna Smith')\n",
    "# t[2].page_content"
   ]
  },
  {
   "cell_type": "markdown",
   "id": "c3ad521c",
   "metadata": {},
   "source": [
    "# Interface"
   ]
  },
  {
   "cell_type": "code",
   "execution_count": 40,
   "id": "fd876d76",
   "metadata": {},
   "outputs": [],
   "source": [
    "import gradio as gr"
   ]
  },
  {
   "cell_type": "code",
   "execution_count": 82,
   "id": "58b48311",
   "metadata": {},
   "outputs": [
    {
     "ename": "SyntaxError",
     "evalue": "invalid syntax (2479718670.py, line 28)",
     "output_type": "error",
     "traceback": [
      "\u001b[1;36m  Cell \u001b[1;32mIn[82], line 28\u001b[1;36m\u001b[0m\n\u001b[1;33m    r, t = message_and_history([message, state, entity_name], history = [], name = 'Robert King')7\u001b[0m\n\u001b[1;37m                                                                                                 ^\u001b[0m\n\u001b[1;31mSyntaxError\u001b[0m\u001b[1;31m:\u001b[0m invalid syntax\n"
     ]
    }
   ],
   "source": [
    "def message_and_history(input, history, name, llm = llm, verbose = True): \n",
    "    '''\n",
    "    Here we are getting the user chat history and storing it in a list and adding it to the previous state.\n",
    "    input: question\n",
    "    history: state\n",
    "    name: client name from dropdown\n",
    "    llm: llm model\n",
    "    retriever: RAG\n",
    "    '''\n",
    "    history = history or [] \n",
    "    print(history) \n",
    "    s = list(sum(history, ())) \n",
    "    print(s) \n",
    "    s.append(input) \n",
    "    print('#########################################') \n",
    "    print(s) \n",
    "    inp = ' '.join(s) \n",
    "    print(inp)\n",
    "    print(f' chosen name is {name}')\n",
    "    retriever, texts = name_based_retriever(docs = None, name = name)\n",
    "    output = api_calling(question = inp, llm = llm, retriever = retriever, verbose = verbose) \n",
    "    history.append((input, output)) \n",
    "    print('------------------') \n",
    "    print(history) \n",
    "    print(\"*********************\") \n",
    "    return history, history"
   ]
  },
  {
   "cell_type": "code",
   "execution_count": 80,
   "id": "e9949b4f",
   "metadata": {},
   "outputs": [],
   "source": [
    "def api_calling(question, llm, retriever, chain_type = 'stuff', verbose = True): \n",
    "    qa = RetrievalQA.from_chain_type(\n",
    "        llm = llm # text generation model at the end\n",
    "        , chain_type = chain_type\n",
    "        , retriever = retriever #interface for fetching documents\n",
    "        , verbose = verbose\n",
    "    )\n",
    "    respond = qa.run(question)\n",
    "    \n",
    "    return respond\n",
    "\n",
    "# api_calling(question = 'Who is the article about?', llm = llm, retriever = retriever, verbose = False)"
   ]
  },
  {
   "cell_type": "code",
   "execution_count": 81,
   "id": "cb772466-39e3-473d-ad13-3dd6fed1155a",
   "metadata": {},
   "outputs": [
    {
     "name": "stdout",
     "output_type": "stream",
     "text": [
      "Running on local URL:  http://127.0.0.1:7869\n",
      "\n",
      "Could not create share link. Please check your internet connection or our status page: https://status.gradio.app.\n"
     ]
    },
    {
     "data": {
      "text/html": [
       "<div><iframe src=\"http://127.0.0.1:7869/\" width=\"100%\" height=\"500\" allow=\"autoplay; camera; microphone; clipboard-read; clipboard-write;\" frameborder=\"0\" allowfullscreen></iframe></div>"
      ],
      "text/plain": [
       "<IPython.core.display.HTML object>"
      ]
     },
     "metadata": {},
     "output_type": "display_data"
    },
    {
     "data": {
      "text/plain": []
     },
     "execution_count": 81,
     "metadata": {},
     "output_type": "execute_result"
    },
    {
     "name": "stdout",
     "output_type": "stream",
     "text": [
      "[]\n",
      "[]\n",
      "#########################################\n",
      "['who is this document for?']\n",
      "who is this document for?\n",
      " chosen name is Robert King\n",
      "\n",
      "\n",
      "\u001b[1m> Entering new RetrievalQA chain...\u001b[0m\n",
      "\n",
      "\u001b[1m> Finished chain.\u001b[0m\n",
      "------------------\n",
      "[('who is this document for?', \" I don't know.\")]\n",
      "*********************\n",
      "[('who is this document for?', \" I don't know.\")]\n",
      "['who is this document for?', \" I don't know.\"]\n",
      "#########################################\n",
      "['who is this document for?', \" I don't know.\", 'Where does Robert King work?']\n",
      "who is this document for?  I don't know. Where does Robert King work?\n",
      " chosen name is Robert King\n",
      "\n",
      "\n",
      "\u001b[1m> Entering new RetrievalQA chain...\u001b[0m\n",
      "\n",
      "\u001b[1m> Finished chain.\u001b[0m\n",
      "------------------\n",
      "[('who is this document for?', \" I don't know.\"), ('Where does Robert King work?', \" I don't know where Robert King works.\")]\n",
      "*********************\n",
      "[('who is this document for?', \" I don't know.\"), ('Where does Robert King work?', \" I don't know where Robert King works.\")]\n",
      "['who is this document for?', \" I don't know.\", 'Where does Robert King work?', \" I don't know where Robert King works.\"]\n",
      "#########################################\n",
      "['who is this document for?', \" I don't know.\", 'Where does Robert King work?', \" I don't know where Robert King works.\", 'Who is Robert King?']\n",
      "who is this document for?  I don't know. Where does Robert King work?  I don't know where Robert King works. Who is Robert King?\n",
      " chosen name is Robert King\n",
      "\n",
      "\n",
      "\u001b[1m> Entering new RetrievalQA chain...\u001b[0m\n",
      "\n",
      "\u001b[1m> Finished chain.\u001b[0m\n",
      "------------------\n",
      "[('who is this document for?', \" I don't know.\"), ('Where does Robert King work?', \" I don't know where Robert King works.\"), ('Who is Robert King?', \" I don't know who Robert King is.\")]\n",
      "*********************\n"
     ]
    }
   ],
   "source": [
    "\n",
    "\n",
    "prompt = 'How can I help you?'\n",
    "theme = gr.themes.Monochrome() #gr.themes.Soft() \n",
    "block = gr.Blocks(theme = theme)\n",
    "with block:\n",
    "    gr.Markdown('''<h1><center> Let's Learn More About Our (Prospective) Client! </center></h1>''')\n",
    "    entity_name = gr.Dropdown(choices = sorted(['All']+get_names()), multiselect = False, label = \"Choose or type in the entity's name\", value = 'All')\n",
    "    chatbot = gr.Chatbot()\n",
    "    message = gr.Textbox(placeholder = prompt, label = 'Type here:')\n",
    "    state = gr.State()\n",
    "    submit = gr.Button('SEND')\n",
    "    submit.click(fn = message_and_history,\n",
    "                 inputs = [message, state, entity_name],\n",
    "                 outputs = [chatbot, state])\n",
    "\n",
    "block.launch(share = True)\n",
    "# name                    "
   ]
  },
  {
   "cell_type": "code",
   "execution_count": 84,
   "id": "8acc314d-31c8-406d-bfaa-f7e321b61733",
   "metadata": {},
   "outputs": [
    {
     "data": {
      "text/plain": [
       "state"
      ]
     },
     "execution_count": 84,
     "metadata": {},
     "output_type": "execute_result"
    }
   ],
   "source": [
    "state"
   ]
  },
  {
   "cell_type": "code",
   "execution_count": 85,
   "id": "1d9229f6-c632-4476-b895-ae94f46b830d",
   "metadata": {},
   "outputs": [
    {
     "name": "stdout",
     "output_type": "stream",
     "text": [
      "state\n"
     ]
    },
    {
     "ename": "TypeError",
     "evalue": "'State' object is not iterable",
     "output_type": "error",
     "traceback": [
      "\u001b[1;31m---------------------------------------------------------------------------\u001b[0m",
      "\u001b[1;31mTypeError\u001b[0m                                 Traceback (most recent call last)",
      "Cell \u001b[1;32mIn[85], line 12\u001b[0m\n\u001b[0;32m     10\u001b[0m history \u001b[38;5;241m=\u001b[39m history \u001b[38;5;129;01mor\u001b[39;00m [] \n\u001b[0;32m     11\u001b[0m \u001b[38;5;28mprint\u001b[39m(history) \n\u001b[1;32m---> 12\u001b[0m s \u001b[38;5;241m=\u001b[39m \u001b[38;5;28mlist\u001b[39m(\u001b[38;5;28;43msum\u001b[39;49m\u001b[43m(\u001b[49m\u001b[43mhistory\u001b[49m\u001b[43m,\u001b[49m\u001b[43m \u001b[49m\u001b[43m(\u001b[49m\u001b[43m)\u001b[49m\u001b[43m)\u001b[49m) \n\u001b[0;32m     13\u001b[0m \u001b[38;5;28mprint\u001b[39m(s) \n\u001b[0;32m     14\u001b[0m s\u001b[38;5;241m.\u001b[39mappend(\u001b[38;5;28minput\u001b[39m) \n",
      "\u001b[1;31mTypeError\u001b[0m: 'State' object is not iterable"
     ]
    }
   ],
   "source": [
    "    input = message; history = state; name = entity_name \n",
    "    '''\n",
    "    Here we are getting the user chat history and storing it in a list and adding it to the previous state.\n",
    "    input: question\n",
    "    history: state\n",
    "    name: client name from dropdown\n",
    "    llm: llm model\n",
    "    retriever: RAG\n",
    "    '''\n",
    "    history = history or [] \n",
    "    print(history) \n",
    "    s = list(sum(history, ())) \n",
    "    print(s) \n",
    "    s.append(input) \n",
    "    print('#########################################') \n",
    "    print(s) \n",
    "    inp = ' '.join(s) \n",
    "    print(inp)\n",
    "    print(f' chosen name is {name}')\n",
    "    retriever, texts = name_based_retriever(docs = None, name = name)"
   ]
  },
  {
   "cell_type": "code",
   "execution_count": null,
   "id": "9ef255f5-9493-4afc-8f71-50f6f6c2ad77",
   "metadata": {},
   "outputs": [],
   "source": [
    "O "
   ]
  }
 ],
 "metadata": {
  "kernelspec": {
   "display_name": "Python 3 (ipykernel)",
   "language": "python",
   "name": "python3"
  },
  "language_info": {
   "codemirror_mode": {
    "name": "ipython",
    "version": 3
   },
   "file_extension": ".py",
   "mimetype": "text/x-python",
   "name": "python",
   "nbconvert_exporter": "python",
   "pygments_lexer": "ipython3",
   "version": "3.10.13"
  }
 },
 "nbformat": 4,
 "nbformat_minor": 5
}
